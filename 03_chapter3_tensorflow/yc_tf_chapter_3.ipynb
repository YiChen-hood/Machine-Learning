{
 "cells": [
  {
   "cell_type": "code",
   "execution_count": 37,
   "id": "b2953b5d",
   "metadata": {},
   "outputs": [],
   "source": [
    "import numpy as np\n",
    "import matplotlib.pyplot as plt\n",
    "import tensorflow as tf"
   ]
  },
  {
   "cell_type": "code",
   "execution_count": 38,
   "id": "5044ad0b",
   "metadata": {},
   "outputs": [
    {
     "name": "stdout",
     "output_type": "stream",
     "text": [
      "2.6.3\n"
     ]
    }
   ],
   "source": [
    "print(tf.__version__)"
   ]
  },
  {
   "cell_type": "code",
   "execution_count": 39,
   "id": "95a00555",
   "metadata": {
    "scrolled": true
   },
   "outputs": [
    {
     "name": "stdout",
     "output_type": "stream",
     "text": [
      "b'hello,tensorflow!'\n"
     ]
    }
   ],
   "source": [
    "tf.compat.v1.disable_eager_execution()\n",
    "\n",
    "hello = tf.constant('hello,tensorflow!')\n",
    "sess= tf.compat.v1.Session()\n",
    "print(sess.run(hello))"
   ]
  },
  {
   "cell_type": "code",
   "execution_count": 40,
   "id": "5fb7c0eb",
   "metadata": {},
   "outputs": [],
   "source": [
    "x_train = np.linspace(-1, 1, 101)\n",
    "y_train = 2 * x_train + np.random.randn(*x_train.shape) * 0.33"
   ]
  },
  {
   "cell_type": "code",
   "execution_count": 41,
   "id": "2aaf1f75",
   "metadata": {},
   "outputs": [
    {
     "data": {
      "image/png": "[encoded data removed]",
      "text/plain": [
       "<Figure size 432x288 with 1 Axes>"
      ]
     },
     "metadata": {
      "needs_background": "light"
     },
     "output_type": "display_data"
    }
   ],
   "source": [
    "plt.scatter(x_train, y_train)\n",
    "plt.show()"
   ]
  },
  {
   "cell_type": "code",
   "execution_count": null,
   "id": "9fd14d68",
   "metadata": {},
   "outputs": [],
   "source": []
  },
  {
   "cell_type": "code",
   "execution_count": 42,
   "id": "7c3e8902",
   "metadata": {},
   "outputs": [],
   "source": [
    "learning_rate = 0.01\n",
    "training_epochs = 100"
   ]
  },
  {
   "cell_type": "code",
   "execution_count": 43,
   "id": "cce96e49",
   "metadata": {},
   "outputs": [],
   "source": [
    "x_train = np.linspace(-1, 1, 101)\n",
    "y_train = 2 * x_train + np.random.randn(*x_train.shape) * 0.33"
   ]
  },
  {
   "cell_type": "code",
   "execution_count": 46,
   "id": "e24db198",
   "metadata": {},
   "outputs": [],
   "source": [
    "# here is a error: AttributeError: module 'tensorflow' has no attribute 'placeholder'\n",
    "# analysis: Tensorflow 2.x calls the API of tensorflow 1.x\n",
    "# Solution: import new tf\n",
    "\n",
    "import tensorflow.compat.v1 as tf\n",
    "tf.compat.v1.disable_eager_execution()"
   ]
  },
  {
   "cell_type": "code",
   "execution_count": 47,
   "id": "24e4142d",
   "metadata": {},
   "outputs": [],
   "source": [
    "X = tf.placeholder(tf.float32)\n",
    "Y = tf.placeholder(tf.float32)"
   ]
  },
  {
   "cell_type": "code",
   "execution_count": 48,
   "id": "ef2a7cbd",
   "metadata": {},
   "outputs": [],
   "source": [
    "def model(X, w):\n",
    "    return tf.multiply(X, w)"
   ]
  },
  {
   "cell_type": "code",
   "execution_count": 49,
   "id": "b7c1fc5d",
   "metadata": {},
   "outputs": [],
   "source": [
    "w = tf.Variable(0.0, name=\"weights\")\n",
    "y_model = model(X, w)\n",
    "cost = tf.square(Y-y_model)"
   ]
  },
  {
   "cell_type": "code",
   "execution_count": 50,
   "id": "eed35cc6",
   "metadata": {},
   "outputs": [],
   "source": [
    "train_op = tf.train.GradientDescentOptimizer(learning_rate).minimize(cost)"
   ]
  },
  {
   "cell_type": "code",
   "execution_count": 51,
   "id": "8dd9ae65",
   "metadata": {},
   "outputs": [],
   "source": [
    "sess = tf.Session()\n",
    "init = tf.global_variables_initializer()\n",
    "sess.run(init)"
   ]
  },
  {
   "cell_type": "code",
   "execution_count": 52,
   "id": "1a7006bd",
   "metadata": {},
   "outputs": [],
   "source": [
    "for epoch in range(training_epochs):\n",
    "    for (x, y) in zip(x_train, y_train):\n",
    "        sess.run(train_op, feed_dict={X: x, Y: y})"
   ]
  },
  {
   "cell_type": "code",
   "execution_count": 54,
   "id": "a153afa6",
   "metadata": {},
   "outputs": [],
   "source": [
    "w_val = sess.run(w)"
   ]
  },
  {
   "cell_type": "code",
   "execution_count": 55,
   "id": "2f438e9e",
   "metadata": {},
   "outputs": [],
   "source": [
    "sess.close()"
   ]
  },
  {
   "cell_type": "code",
   "execution_count": 56,
   "id": "8d3d39ff",
   "metadata": {},
   "outputs": [
    {
     "data": {
      "image/png": "[encoded data removed]",
      "text/plain": [
       "<Figure size 432x288 with 1 Axes>"
      ]
     },
     "metadata": {
      "needs_background": "light"
     },
     "output_type": "display_data"
    }
   ],
   "source": [
    "plt.scatter(x_train, y_train)\n",
    "y_learned = x_train * w_val\n",
    "plt.plot(x_train, y_learned, 'r')\n",
    "plt.show()"
   ]
  },
  {
   "cell_type": "code",
   "execution_count": null,
   "id": "5a759589",
   "metadata": {},
   "outputs": [],
   "source": []
  },
  {
   "cell_type": "code",
   "execution_count": 57,
   "id": "5ffa0841",
   "metadata": {},
   "outputs": [],
   "source": [
    "learning_rate = 0.01\n",
    "training_epochs = 40"
   ]
  },
  {
   "cell_type": "code",
   "execution_count": 58,
   "id": "786886c5",
   "metadata": {},
   "outputs": [],
   "source": [
    "trX = np.linspace(-1, 1, 101)\n",
    "num_coeffs = 6\n",
    "trY_coeffs = [1, 2, 3, 4, 5, 6]\n",
    "trY = 0"
   ]
  },
  {
   "cell_type": "code",
   "execution_count": 59,
   "id": "b3e7cfe2",
   "metadata": {},
   "outputs": [
    {
     "data": {
      "image/png": "[encoded data removed]",
      "text/plain": [
       "<Figure size 432x288 with 1 Axes>"
      ]
     },
     "metadata": {
      "needs_background": "light"
     },
     "output_type": "display_data"
    }
   ],
   "source": [
    "for i in range(num_coeffs):\n",
    "    trY += trY_coeffs[i] * np.power(trX, i)\n",
    "    \n",
    "trY += np.random.randn(*trX.shape) * 1.5\n",
    "\n",
    "plt.scatter(trX, trY)\n",
    "plt.show()"
   ]
  },
  {
   "cell_type": "code",
   "execution_count": 60,
   "id": "60f14553",
   "metadata": {},
   "outputs": [],
   "source": [
    "X = tf.placeholder(tf.float32)\n",
    "Y = tf.placeholder(tf.float32)"
   ]
  },
  {
   "cell_type": "code",
   "execution_count": 69,
   "id": "f300b2df",
   "metadata": {},
   "outputs": [],
   "source": [
    "def model(X, w):\n",
    "    terms = []\n",
    "    for i in range(num_coeffs):\n",
    "        term = tf.multiply(w[i], tf.pow(X, i))\n",
    "        terms.append(term)\n",
    "    return tf.add_n(terms)"
   ]
  },
  {
   "cell_type": "code",
   "execution_count": 70,
   "id": "41a8a492",
   "metadata": {},
   "outputs": [],
   "source": [
    "w = tf.Variable([0.] * num_coeffs, name=\"parameters\")\n",
    "y_model = model(X, w)"
   ]
  },
  {
   "cell_type": "code",
   "execution_count": 71,
   "id": "ba2b2ce4",
   "metadata": {},
   "outputs": [],
   "source": [
    "cost = (tf.pow(Y-y_model, 2))\n",
    "train_op = tf.train.GradientDescentOptimizer(learning_rate).minimize(cost)\n",
    "\n",
    "sess = tf.Session()\n",
    "init = tf.global_variables_initializer()\n",
    "sess.run(init)"
   ]
  },
  {
   "cell_type": "code",
   "execution_count": 72,
   "id": "6354d27d",
   "metadata": {},
   "outputs": [],
   "source": [
    "for epoch in range(training_epochs):\n",
    "    for(x, y) in zip(trX, trY):\n",
    "        sess.run(train_op, feed_dict={X:x, Y:y})"
   ]
  },
  {
   "cell_type": "code",
   "execution_count": 73,
   "id": "4ab379cc",
   "metadata": {},
   "outputs": [
    {
     "name": "stdout",
     "output_type": "stream",
     "text": [
      "[0.75534713 2.4667845  4.1067553  4.271014   3.4772947  4.8385267 ]\n"
     ]
    }
   ],
   "source": [
    "w_val = sess.run(w)\n",
    "print(w_val)"
   ]
  },
  {
   "cell_type": "code",
   "execution_count": 74,
   "id": "17e5cda0",
   "metadata": {},
   "outputs": [],
   "source": [
    "sess.close()"
   ]
  },
  {
   "cell_type": "code",
   "execution_count": 75,
   "id": "b54767e0",
   "metadata": {},
   "outputs": [
    {
     "data": {
      "image/png": "[encoded data removed]",
      "text/plain": [
       "<Figure size 432x288 with 1 Axes>"
      ]
     },
     "metadata": {
      "needs_background": "light"
     },
     "output_type": "display_data"
    }
   ],
   "source": [
    "plt.scatter(trX, trY)\n",
    "trY2 = 0\n",
    "for i in range(num_coeffs):\n",
    "    trY2 += w_val[i] * np.power(trX, i)\n",
    "plt.plot(trX, trY2, 'r')\n",
    "plt.show()"
   ]
  },
  {
   "cell_type": "code",
   "execution_count": null,
   "id": "763f67d6",
   "metadata": {},
   "outputs": [],
   "source": []
  },
  {
   "cell_type": "code",
   "execution_count": 76,
   "id": "66d3af64",
   "metadata": {},
   "outputs": [],
   "source": [
    "def split_dataset(x_dataset, y_dataset, ratio):\n",
    "    arr = np.arange(x_dataset.size)\n",
    "    np.random.shuffle(arr)\n",
    "    num_train = int(ratio * x_dataset.size)\n",
    "    x_train = x_dataset[arr[0:num_train]]\n",
    "    x_test = x_dataset[arr[num_train:x_dataset.size]]\n",
    "    y_train = y_dataset[arr[0:num_train]]\n",
    "    y_test = y_dataset[arr[num_train:x_dataset.size]]\n",
    "    return x_train, x_test, y_train, y_test"
   ]
  },
  {
   "cell_type": "code",
   "execution_count": 77,
   "id": "a1dac9b5",
   "metadata": {},
   "outputs": [],
   "source": [
    "learning_rate = 0.001\n",
    "training_epochs = 1000\n",
    "reg_lambda = 0.\n",
    "\n",
    "x_dataset = np.linspace(-1, 1, 100)\n",
    "\n",
    "num_coeffs = 9\n",
    "y_dataset_params = [0.] * num_coeffs\n",
    "y_dataset_params[2] = 1\n",
    "y_dataset = 0"
   ]
  },
  {
   "cell_type": "code",
   "execution_count": 79,
   "id": "0a890ded",
   "metadata": {},
   "outputs": [],
   "source": [
    "for i in range(num_coeffs):\n",
    "    y_dataset += y_dataset_params[i] * np.power(x_dataset, i)\n",
    "y_dataset += np.random.randn(*x_dataset.shape) * 0.3\n",
    "\n",
    "(x_train, x_test, y_train, y_test) = split_dataset(x_dataset, y_dataset, 0.7)"
   ]
  },
  {
   "cell_type": "code",
   "execution_count": 80,
   "id": "ea06c106",
   "metadata": {},
   "outputs": [],
   "source": [
    "X = tf.placeholder(tf.float32)\n",
    "Y = tf.placeholder(tf.float32)\n",
    "\n",
    "def model(X, w):\n",
    "    terms = []\n",
    "    for i in range(num_coeffs):\n",
    "        term = tf.multiply(w[i], tf.pow(X, i))\n",
    "        terms.append(term)\n",
    "    return tf.add_n(terms)"
   ]
  },
  {
   "cell_type": "code",
   "execution_count": 81,
   "id": "a7be4dff",
   "metadata": {},
   "outputs": [
    {
     "name": "stdout",
     "output_type": "stream",
     "text": [
      "WARNING:tensorflow:From /var/folders/3r/xthrg17n2rb215mv_3pqzjdw0000gn/T/ipykernel_35401/2510821379.py:3: div (from tensorflow.python.ops.math_ops) is deprecated and will be removed in a future version.\n",
      "Instructions for updating:\n",
      "Deprecated in favor of operator or tf.math.divide.\n"
     ]
    }
   ],
   "source": [
    "w = tf.Variable([0.] * num_coeffs, name=\"parameters\")\n",
    "y_model = model(X, w)\n",
    "cost = tf.div(tf.add(tf.reduce_sum(tf.square(Y-y_model)), tf.multiply(reg_lambda, tf.reduce_sum(tf.square(w)))),\n",
    "              2*x_train.size)"
   ]
  },
  {
   "cell_type": "code",
   "execution_count": 82,
   "id": "c6beb799",
   "metadata": {},
   "outputs": [],
   "source": [
    "train_op = tf.train.GradientDescentOptimizer(learning_rate).minimize(cost)"
   ]
  },
  {
   "cell_type": "code",
   "execution_count": 83,
   "id": "6fec48b2",
   "metadata": {},
   "outputs": [
    {
     "name": "stdout",
     "output_type": "stream",
     "text": [
      "reg lambda 0.0\n",
      "final cost 0.11510811\n",
      "reg lambda 0.010101010101010102\n",
      "final cost 0.09142849\n",
      "reg lambda 0.020202020202020204\n",
      "final cost 0.08182387\n",
      "reg lambda 0.030303030303030304\n",
      "final cost 0.07572457\n",
      "reg lambda 0.04040404040404041\n",
      "final cost 0.07139126\n",
      "reg lambda 0.05050505050505051\n",
      "final cost 0.06821203\n",
      "reg lambda 0.06060606060606061\n",
      "final cost 0.065839574\n",
      "reg lambda 0.07070707070707072\n",
      "final cost 0.06404398\n",
      "reg lambda 0.08080808080808081\n",
      "final cost 0.0626661\n",
      "reg lambda 0.09090909090909091\n",
      "final cost 0.06159391\n",
      "reg lambda 0.10101010101010102\n",
      "final cost 0.060747813\n",
      "reg lambda 0.11111111111111112\n",
      "final cost 0.060070705\n",
      "reg lambda 0.12121212121212122\n",
      "final cost 0.059521254\n",
      "reg lambda 0.13131313131313133\n",
      "final cost 0.059069306\n",
      "reg lambda 0.14141414141414144\n",
      "final cost 0.05869251\n",
      "reg lambda 0.15151515151515152\n",
      "final cost 0.058374207\n",
      "reg lambda 0.16161616161616163\n",
      "final cost 0.058101844\n",
      "reg lambda 0.17171717171717174\n",
      "final cost 0.05786588\n",
      "reg lambda 0.18181818181818182\n",
      "final cost 0.05765896\n",
      "reg lambda 0.19191919191919193\n",
      "final cost 0.05747541\n",
      "reg lambda 0.20202020202020204\n",
      "final cost 0.057310786\n",
      "reg lambda 0.21212121212121213\n",
      "final cost 0.057161637\n",
      "reg lambda 0.22222222222222224\n",
      "final cost 0.057025217\n",
      "reg lambda 0.23232323232323235\n",
      "final cost 0.056899372\n",
      "reg lambda 0.24242424242424243\n",
      "final cost 0.05678231\n",
      "reg lambda 0.25252525252525254\n",
      "final cost 0.05667261\n",
      "reg lambda 0.26262626262626265\n",
      "final cost 0.056569397\n",
      "reg lambda 0.27272727272727276\n",
      "final cost 0.05647141\n",
      "reg lambda 0.2828282828282829\n",
      "final cost 0.056378257\n",
      "reg lambda 0.29292929292929293\n",
      "final cost 0.056288976\n",
      "reg lambda 0.30303030303030304\n",
      "final cost 0.05620365\n",
      "reg lambda 0.31313131313131315\n",
      "final cost 0.05612116\n",
      "reg lambda 0.32323232323232326\n",
      "final cost 0.056042004\n",
      "reg lambda 0.33333333333333337\n",
      "final cost 0.055965263\n",
      "reg lambda 0.3434343434343435\n",
      "final cost 0.05589069\n",
      "reg lambda 0.3535353535353536\n",
      "final cost 0.055818476\n",
      "reg lambda 0.36363636363636365\n",
      "final cost 0.055748686\n",
      "reg lambda 0.37373737373737376\n",
      "final cost 0.055680666\n",
      "reg lambda 0.38383838383838387\n",
      "final cost 0.055614177\n",
      "reg lambda 0.393939393939394\n",
      "final cost 0.055549487\n",
      "reg lambda 0.4040404040404041\n",
      "final cost 0.055486243\n",
      "reg lambda 0.4141414141414142\n",
      "final cost 0.055424504\n",
      "reg lambda 0.42424242424242425\n",
      "final cost 0.055364568\n",
      "reg lambda 0.43434343434343436\n",
      "final cost 0.05530669\n",
      "reg lambda 0.4444444444444445\n",
      "final cost 0.055249806\n",
      "reg lambda 0.4545454545454546\n",
      "final cost 0.055193987\n",
      "reg lambda 0.4646464646464647\n",
      "final cost 0.055139814\n",
      "reg lambda 0.4747474747474748\n",
      "final cost 0.055086743\n",
      "reg lambda 0.48484848484848486\n",
      "final cost 0.055034526\n",
      "reg lambda 0.494949494949495\n",
      "final cost 0.05498356\n",
      "reg lambda 0.5050505050505051\n",
      "final cost 0.054934006\n",
      "reg lambda 0.5151515151515152\n",
      "final cost 0.054885175\n",
      "reg lambda 0.5252525252525253\n",
      "final cost 0.05483751\n",
      "reg lambda 0.5353535353535354\n",
      "final cost 0.05479108\n",
      "reg lambda 0.5454545454545455\n",
      "final cost 0.054745357\n",
      "reg lambda 0.5555555555555556\n",
      "final cost 0.054700866\n",
      "reg lambda 0.5656565656565657\n",
      "final cost 0.05465741\n",
      "reg lambda 0.5757575757575758\n",
      "final cost 0.05461486\n",
      "reg lambda 0.5858585858585859\n",
      "final cost 0.05457403\n",
      "reg lambda 0.595959595959596\n",
      "final cost 0.054533876\n",
      "reg lambda 0.6060606060606061\n",
      "final cost 0.054494765\n",
      "reg lambda 0.6161616161616162\n",
      "final cost 0.054456424\n",
      "reg lambda 0.6262626262626263\n",
      "final cost 0.054418623\n",
      "reg lambda 0.6363636363636365\n",
      "final cost 0.054382037\n",
      "reg lambda 0.6464646464646465\n",
      "final cost 0.054345604\n",
      "reg lambda 0.6565656565656566\n",
      "final cost 0.054310646\n",
      "reg lambda 0.6666666666666667\n",
      "final cost 0.054275908\n",
      "reg lambda 0.6767676767676768\n",
      "final cost 0.054242365\n",
      "reg lambda 0.686868686868687\n",
      "final cost 0.054209344\n",
      "reg lambda 0.696969696969697\n",
      "final cost 0.054177083\n",
      "reg lambda 0.7070707070707072\n",
      "final cost 0.054145366\n",
      "reg lambda 0.7171717171717172\n",
      "final cost 0.054114383\n",
      "reg lambda 0.7272727272727273\n",
      "final cost 0.054084297\n",
      "reg lambda 0.7373737373737375\n",
      "final cost 0.054054763\n",
      "reg lambda 0.7474747474747475\n",
      "final cost 0.05402588\n",
      "reg lambda 0.7575757575757577\n",
      "final cost 0.05399753\n",
      "reg lambda 0.7676767676767677\n",
      "final cost 0.053969987\n",
      "reg lambda 0.7777777777777778\n",
      "final cost 0.05394302\n",
      "reg lambda 0.787878787878788\n",
      "final cost 0.053916592\n",
      "reg lambda 0.797979797979798\n",
      "final cost 0.053890746\n",
      "reg lambda 0.8080808080808082\n",
      "final cost 0.053865623\n",
      "reg lambda 0.8181818181818182\n",
      "final cost 0.053841133\n",
      "reg lambda 0.8282828282828284\n",
      "final cost 0.0538166\n",
      "reg lambda 0.8383838383838385\n",
      "final cost 0.05379356\n",
      "reg lambda 0.8484848484848485\n",
      "final cost 0.053770527\n",
      "reg lambda 0.8585858585858587\n",
      "final cost 0.053748555\n",
      "reg lambda 0.8686868686868687\n",
      "final cost 0.053726945\n",
      "reg lambda 0.8787878787878789\n",
      "final cost 0.053706206\n",
      "reg lambda 0.888888888888889\n",
      "final cost 0.053685505\n",
      "reg lambda 0.8989898989898991\n",
      "final cost 0.05366495\n",
      "reg lambda 0.9090909090909092\n",
      "final cost 0.053646155\n",
      "reg lambda 0.9191919191919192\n",
      "final cost 0.05362669\n",
      "reg lambda 0.9292929292929294\n",
      "final cost 0.053607885\n",
      "reg lambda 0.9393939393939394\n",
      "final cost 0.05358985\n",
      "reg lambda 0.9494949494949496\n",
      "final cost 0.053571448\n",
      "reg lambda 0.9595959595959597\n",
      "final cost 0.05355436\n",
      "reg lambda 0.9696969696969697\n",
      "final cost 0.0535372\n",
      "reg lambda 0.9797979797979799\n",
      "final cost 0.05352005\n",
      "reg lambda 0.98989898989899\n",
      "final cost 0.053504173\n",
      "reg lambda 1.0\n",
      "final cost 0.053487897\n"
     ]
    }
   ],
   "source": [
    "sess = tf.Session()\n",
    "init = tf.global_variables_initializer()\n",
    "sess.run(init)\n",
    "\n",
    "for reg_lambda in np.linspace(0, 1, 100):\n",
    "    for epoch in range(training_epochs):\n",
    "        sess.run(train_op, feed_dict={X:x_train, Y:y_train})\n",
    "    final_cost = sess.run(cost, feed_dict={X:x_test, Y:y_test})\n",
    "    print('reg lambda', reg_lambda)\n",
    "    print('final cost', final_cost)\n",
    "\n",
    "sess.close()"
   ]
  },
  {
   "cell_type": "code",
   "execution_count": null,
   "id": "6281ddfd",
   "metadata": {},
   "outputs": [],
   "source": []
  }
 ],
 "metadata": {
  "kernelspec": {
   "display_name": "Python 3 (ipykernel)",
   "language": "python",
   "name": "python3"
  },
  "language_info": {
   "codemirror_mode": {
    "name": "ipython",
    "version": 3
   },
   "file_extension": ".py",
   "mimetype": "text/x-python",
   "name": "python",
   "nbconvert_exporter": "python",
   "pygments_lexer": "ipython3",
   "version": "3.9.7"
  }
 },
 "nbformat": 4,
 "nbformat_minor": 5
}

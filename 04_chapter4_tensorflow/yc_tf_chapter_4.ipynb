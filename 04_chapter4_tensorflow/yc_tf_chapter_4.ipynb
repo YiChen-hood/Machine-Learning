{
 "cells": [
  {
   "cell_type": "code",
   "execution_count": 4,
   "id": "fad5cb63",
   "metadata": {},
   "outputs": [],
   "source": [
    "import csv\n",
    "import time\n",
    "import numpy as np\n",
    "import matplotlib.pyplot as plt\n",
    "import tensorflow as tf\n",
    "import functools"
   ]
  },
  {
   "cell_type": "code",
   "execution_count": 5,
   "id": "9ff44fac",
   "metadata": {},
   "outputs": [
    {
     "name": "stdout",
     "output_type": "stream",
     "text": [
      "2.6.3\n"
     ]
    }
   ],
   "source": [
    "print(tf.__version__)"
   ]
  },
  {
   "cell_type": "code",
   "execution_count": 6,
   "id": "15caa627",
   "metadata": {},
   "outputs": [],
   "source": [
    "def read(filename, date_idx, date_parse, year=None, bucket=7):\n",
    "    days_in_year = 365\n",
    "    \n",
    "    freq = {}\n",
    "    if year != None:\n",
    "         for period in range(0, int(days_in_year / bucket)):\n",
    "            freq[period] = 0\n",
    "        \n",
    "    with open(filename, 'r') as csvfile:\n",
    "        csvreader = csv.reader(csvfile)\n",
    "        next(csvreader)\n",
    "        for row in csvreader:\n",
    "            if row[date_idx] == '':\n",
    "                continue\n",
    "            \n",
    "            t = time.strptime(row[date_idx], date_parse)\n",
    "            if year == None:\n",
    "                if not t.tm_year in freq:\n",
    "                    freq[t.tm_year] = {}\n",
    "                    for period in range(0, int(days_in_year / bucket)):\n",
    "                        freq[t.tm_year][period] = 0\n",
    "                \n",
    "                if t.tm_yday < (days_in_year - 1):\n",
    "                    freq[t.tm_year][int(t.tm_yday / bucket)] += 1\n",
    "                    \n",
    "            else:\n",
    "                if t.tm_year == year and t.tm_yday < (days_in_year-1):\n",
    "                    freq[int(t.tm_yday / bucket)] += 1\n",
    "    \n",
    "    return freq"
   ]
  },
  {
   "cell_type": "code",
   "execution_count": 7,
   "id": "c2729aaa",
   "metadata": {},
   "outputs": [],
   "source": [
    "def split_dataset(x_dataset, y_dataset, ratio):\n",
    "    arr = np.arange(x_dataset.size)\n",
    "    np.random.shuffle(arr)\n",
    "    num_train = int(ratio * x_dataset.size)\n",
    "    x_train = x_dataset[arr[0:num_train]]\n",
    "    x_test = x_dataset[arr[num_train:x_dataset.size]]\n",
    "    y_train = y_dataset[arr[0:num_train]]\n",
    "    y_test = y_dataset[arr[num_train:x_dataset.size]]\n",
    "    return x_train, x_test, y_train, y_test"
   ]
  },
  {
   "cell_type": "code",
   "execution_count": 8,
   "id": "3e9b1b95",
   "metadata": {},
   "outputs": [],
   "source": [
    "freq = read('311.csv', 1, '%m/%d/%Y %H:%M:%S %p', 2014)"
   ]
  },
  {
   "cell_type": "code",
   "execution_count": 9,
   "id": "407e3a78",
   "metadata": {},
   "outputs": [
    {
     "data": {
      "text/plain": [
       "{0: 0,\n",
       " 1: 0,\n",
       " 2: 0,\n",
       " 3: 0,\n",
       " 4: 0,\n",
       " 5: 0,\n",
       " 6: 0,\n",
       " 7: 0,\n",
       " 8: 0,\n",
       " 9: 0,\n",
       " 10: 0,\n",
       " 11: 0,\n",
       " 12: 0,\n",
       " 13: 0,\n",
       " 14: 0,\n",
       " 15: 0,\n",
       " 16: 0,\n",
       " 17: 0,\n",
       " 18: 0,\n",
       " 19: 0,\n",
       " 20: 0,\n",
       " 21: 11007,\n",
       " 22: 40636,\n",
       " 23: 42519,\n",
       " 24: 43107,\n",
       " 25: 42245,\n",
       " 26: 38769,\n",
       " 27: 42352,\n",
       " 28: 41406,\n",
       " 29: 39419,\n",
       " 30: 36438,\n",
       " 31: 39173,\n",
       " 32: 37408,\n",
       " 33: 37354,\n",
       " 34: 27074,\n",
       " 35: 0,\n",
       " 36: 0,\n",
       " 37: 0,\n",
       " 38: 0,\n",
       " 39: 0,\n",
       " 40: 0,\n",
       " 41: 0,\n",
       " 42: 0,\n",
       " 43: 0,\n",
       " 44: 0,\n",
       " 45: 0,\n",
       " 46: 0,\n",
       " 47: 0,\n",
       " 48: 0,\n",
       " 49: 0,\n",
       " 50: 0,\n",
       " 51: 0}"
      ]
     },
     "execution_count": 9,
     "metadata": {},
     "output_type": "execute_result"
    }
   ],
   "source": [
    "freq"
   ]
  },
  {
   "cell_type": "code",
   "execution_count": 10,
   "id": "a73c0730",
   "metadata": {},
   "outputs": [
    {
     "name": "stdout",
     "output_type": "stream",
     "text": [
      "Num samples 52\n"
     ]
    },
    {
     "data": {
      "image/png": "[encoded data removed]",
      "text/plain": [
       "<Figure size 432x288 with 1 Axes>"
      ]
     },
     "metadata": {
      "needs_background": "light"
     },
     "output_type": "display_data"
    }
   ],
   "source": [
    "X_train = np.asarray(list(freq.keys()))\n",
    "Y_train = np.asarray(list(freq.values()))\n",
    "print(\"Num samples\", str(len(X_train)))\n",
    "maxY = np.max(Y_train)\n",
    "nY_train = Y_train / np.max(Y_train)\n",
    "\n",
    "plt.scatter(X_train, nY_train)\n",
    "plt.show()"
   ]
  },
  {
   "cell_type": "code",
   "execution_count": 11,
   "id": "3fade34d",
   "metadata": {},
   "outputs": [
    {
     "data": {
      "image/png": "[encoded data removed]",
      "text/plain": [
       "<Figure size 432x288 with 1 Axes>"
      ]
     },
     "metadata": {
      "needs_background": "light"
     },
     "output_type": "display_data"
    }
   ],
   "source": [
    "def gaussian(x, mu, sig):\n",
    "    return np.exp(-np.power(x - mu, 2.) / (2 * np.power(sig, 2.)))\n",
    "x_values = np.linspace(-3, 3, 120)\n",
    "for mu, sig in [(-1, 1), (0, 2), (2, 3)]:\n",
    "    plt.plot(x_values, gaussian(x_values, mu, sig))\n",
    "\n",
    "plt.show()"
   ]
  },
  {
   "cell_type": "code",
   "execution_count": 12,
   "id": "0ebcc6c4",
   "metadata": {},
   "outputs": [],
   "source": [
    "import tensorflow.compat.v1 as tf\n",
    "tf.compat.v1.disable_eager_execution()\n",
    "\n",
    "import warnings\n",
    "warnings.filterwarnings('ignore')\n",
    "\n",
    "#learning_rate = 0.001\n",
    "learning_rate = 1.5\n",
    "training_epochs = 5000\n",
    "\n",
    "X = tf.placeholder(tf.float32)\n",
    "Y = tf.placeholder(tf.float32)\n",
    "\n",
    "def model(X, mu, sig):\n",
    "    return tf.exp(tf.div(tf.negative(tf.pow(tf.subtract(X, mu), 2.)), tf.multiply(2., tf.pow(sig, 2.))))\n",
    "\n",
    "mu = tf.Variable(1., name=\"mu\")\n",
    "sig = tf.Variable(1., name=\"sig\")\n",
    "y_model = model(X, mu, sig)"
   ]
  },
  {
   "cell_type": "code",
   "execution_count": 13,
   "id": "8d51fa73",
   "metadata": {},
   "outputs": [
    {
     "name": "stdout",
     "output_type": "stream",
     "text": [
      "27.231413\n",
      "4.9024706\n"
     ]
    }
   ],
   "source": [
    "cost = tf.square(Y-y_model)\n",
    "train_op = tf.train.GradientDescentOptimizer(learning_rate).minimize(cost)\n",
    "\n",
    "sess= tf.compat.v1.Session()\n",
    "init = tf.global_variables_initializer()\n",
    "sess.run(init)\n",
    "\n",
    "for epoch in range(training_epochs):\n",
    "    for(x, y) in zip(X_train, nY_train):\n",
    "        sess.run(train_op, feed_dict={X:x, Y:y})\n",
    "        \n",
    "mu_val = sess.run(mu)\n",
    "sig_val = sess.run(sig)\n",
    "\n",
    "print(mu_val)\n",
    "print(sig_val)\n",
    "\n",
    "sess.close()"
   ]
  },
  {
   "cell_type": "code",
   "execution_count": 14,
   "id": "6da16e2e",
   "metadata": {},
   "outputs": [
    {
     "data": {
      "image/png": "[encoded data removed]",
      "text/plain": [
       "<Figure size 432x288 with 1 Axes>"
      ]
     },
     "metadata": {
      "needs_background": "light"
     },
     "output_type": "display_data"
    },
    {
     "name": "stdout",
     "output_type": "stream",
     "text": [
      "Prediction of week 35 21572.297356427585\n",
      "Actual week 35 37354\n"
     ]
    }
   ],
   "source": [
    "plt.scatter(X_train, Y_train)\n",
    "trY2 = maxY * (np.exp(-np.power(X_train - mu_val, 2.) / (2 * np.power(sig_val, 2.))))\n",
    "plt.plot(X_train, trY2, 'r')\n",
    "plt.show()\n",
    "print(\"Prediction of week 35\", trY2[33])\n",
    "print(\"Actual week 35\", Y_train[33])"
   ]
  },
  {
   "cell_type": "code",
   "execution_count": 15,
   "id": "f7336e37",
   "metadata": {},
   "outputs": [
    {
     "data": {
      "image/png": "[encoded data removed]",
      "text/plain": [
       "<Figure size 432x288 with 1 Axes>"
      ]
     },
     "metadata": {
      "needs_background": "light"
     },
     "output_type": "display_data"
    },
    {
     "name": "stdout",
     "output_type": "stream",
     "text": [
      "Average Error 208.08780826074533\n",
      "Accuracy 0.9951727606128762\n"
     ]
    }
   ],
   "source": [
    "# plot the error\n",
    "error = np.power(np.power(trY2 - Y_train, 2), 0.5)\n",
    "plt.bar(X_train, error)\n",
    "plt.show()\n",
    "\n",
    "# compute the overall average error\n",
    "avg_error = functools.reduce(lambda a,b: a+b, (trY2-Y_train))\n",
    "avg_error = np.abs(avg_error) / len(X_train)\n",
    "print(\"Average Error\", avg_error)\n",
    "acc = 1. - (avg_error / maxY)\n",
    "print(\"Accuracy\", acc)"
   ]
  },
  {
   "cell_type": "code",
   "execution_count": null,
   "id": "114c8d6e",
   "metadata": {},
   "outputs": [],
   "source": []
  }
 ],
 "metadata": {
  "kernelspec": {
   "display_name": "Python 3 (ipykernel)",
   "language": "python",
   "name": "python3"
  },
  "language_info": {
   "codemirror_mode": {
    "name": "ipython",
    "version": 3
   },
   "file_extension": ".py",
   "mimetype": "text/x-python",
   "name": "python",
   "nbconvert_exporter": "python",
   "pygments_lexer": "ipython3",
   "version": "3.9.7"
  }
 },
 "nbformat": 4,
 "nbformat_minor": 5
}

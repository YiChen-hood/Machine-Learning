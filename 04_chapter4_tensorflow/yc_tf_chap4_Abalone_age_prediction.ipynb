{
 "cells": [
  {
   "cell_type": "code",
   "execution_count": 29,
   "id": "71219944",
   "metadata": {},
   "outputs": [],
   "source": [
    "import pandas as pd\n",
    "import numpy as np\n",
    "\n",
    "import seaborn as sns\n",
    "from matplotlib import pyplot as plt\n",
    "%matplotlib inline\n",
    "\n",
    "import warnings\n",
    "warnings.filterwarnings('ignore')"
   ]
  },
  {
   "cell_type": "code",
   "execution_count": 30,
   "id": "a27ff597",
   "metadata": {},
   "outputs": [],
   "source": [
    "df = pd.read_csv(\"abalone.csv\")"
   ]
  },
  {
   "cell_type": "code",
   "execution_count": 31,
   "id": "00cb040c",
   "metadata": {
    "scrolled": true
   },
   "outputs": [
    {
     "data": {
      "text/html": [
       "<div>\n",
       "<style scoped>\n",
       "    .dataframe tbody tr th:only-of-type {\n",
       "        vertical-align: middle;\n",
       "    }\n",
       "\n",
       "    .dataframe tbody tr th {\n",
       "        vertical-align: top;\n",
       "    }\n",
       "\n",
       "    .dataframe thead th {\n",
       "        text-align: right;\n",
       "    }\n",
       "</style>\n",
       "<table border=\"1\" class=\"dataframe\">\n",
       "  <thead>\n",
       "    <tr style=\"text-align: right;\">\n",
       "      <th></th>\n",
       "      <th>Sex</th>\n",
       "      <th>Length</th>\n",
       "      <th>Diameter</th>\n",
       "      <th>Height</th>\n",
       "      <th>Whole weight</th>\n",
       "      <th>Shucked weight</th>\n",
       "      <th>Viscera weight</th>\n",
       "      <th>Shell weight</th>\n",
       "      <th>Rings</th>\n",
       "    </tr>\n",
       "  </thead>\n",
       "  <tbody>\n",
       "    <tr>\n",
       "      <th>0</th>\n",
       "      <td>M</td>\n",
       "      <td>0.455</td>\n",
       "      <td>0.365</td>\n",
       "      <td>0.095</td>\n",
       "      <td>0.5140</td>\n",
       "      <td>0.2245</td>\n",
       "      <td>0.1010</td>\n",
       "      <td>0.1500</td>\n",
       "      <td>15</td>\n",
       "    </tr>\n",
       "    <tr>\n",
       "      <th>1</th>\n",
       "      <td>M</td>\n",
       "      <td>0.350</td>\n",
       "      <td>0.265</td>\n",
       "      <td>0.090</td>\n",
       "      <td>0.2255</td>\n",
       "      <td>0.0995</td>\n",
       "      <td>0.0485</td>\n",
       "      <td>0.0700</td>\n",
       "      <td>7</td>\n",
       "    </tr>\n",
       "    <tr>\n",
       "      <th>2</th>\n",
       "      <td>F</td>\n",
       "      <td>0.530</td>\n",
       "      <td>0.420</td>\n",
       "      <td>0.135</td>\n",
       "      <td>0.6770</td>\n",
       "      <td>0.2565</td>\n",
       "      <td>0.1415</td>\n",
       "      <td>0.2100</td>\n",
       "      <td>9</td>\n",
       "    </tr>\n",
       "    <tr>\n",
       "      <th>3</th>\n",
       "      <td>M</td>\n",
       "      <td>0.440</td>\n",
       "      <td>0.365</td>\n",
       "      <td>0.125</td>\n",
       "      <td>0.5160</td>\n",
       "      <td>0.2155</td>\n",
       "      <td>0.1140</td>\n",
       "      <td>0.1550</td>\n",
       "      <td>10</td>\n",
       "    </tr>\n",
       "    <tr>\n",
       "      <th>4</th>\n",
       "      <td>I</td>\n",
       "      <td>0.330</td>\n",
       "      <td>0.255</td>\n",
       "      <td>0.080</td>\n",
       "      <td>0.2050</td>\n",
       "      <td>0.0895</td>\n",
       "      <td>0.0395</td>\n",
       "      <td>0.0550</td>\n",
       "      <td>7</td>\n",
       "    </tr>\n",
       "    <tr>\n",
       "      <th>4172</th>\n",
       "      <td>F</td>\n",
       "      <td>0.565</td>\n",
       "      <td>0.450</td>\n",
       "      <td>0.165</td>\n",
       "      <td>0.8870</td>\n",
       "      <td>0.3700</td>\n",
       "      <td>0.2390</td>\n",
       "      <td>0.2490</td>\n",
       "      <td>11</td>\n",
       "    </tr>\n",
       "    <tr>\n",
       "      <th>4173</th>\n",
       "      <td>M</td>\n",
       "      <td>0.590</td>\n",
       "      <td>0.440</td>\n",
       "      <td>0.135</td>\n",
       "      <td>0.9660</td>\n",
       "      <td>0.4390</td>\n",
       "      <td>0.2145</td>\n",
       "      <td>0.2605</td>\n",
       "      <td>10</td>\n",
       "    </tr>\n",
       "    <tr>\n",
       "      <th>4174</th>\n",
       "      <td>M</td>\n",
       "      <td>0.600</td>\n",
       "      <td>0.475</td>\n",
       "      <td>0.205</td>\n",
       "      <td>1.1760</td>\n",
       "      <td>0.5255</td>\n",
       "      <td>0.2875</td>\n",
       "      <td>0.3080</td>\n",
       "      <td>9</td>\n",
       "    </tr>\n",
       "    <tr>\n",
       "      <th>4175</th>\n",
       "      <td>F</td>\n",
       "      <td>0.625</td>\n",
       "      <td>0.485</td>\n",
       "      <td>0.150</td>\n",
       "      <td>1.0945</td>\n",
       "      <td>0.5310</td>\n",
       "      <td>0.2610</td>\n",
       "      <td>0.2960</td>\n",
       "      <td>10</td>\n",
       "    </tr>\n",
       "    <tr>\n",
       "      <th>4176</th>\n",
       "      <td>M</td>\n",
       "      <td>0.710</td>\n",
       "      <td>0.555</td>\n",
       "      <td>0.195</td>\n",
       "      <td>1.9485</td>\n",
       "      <td>0.9455</td>\n",
       "      <td>0.3765</td>\n",
       "      <td>0.4950</td>\n",
       "      <td>12</td>\n",
       "    </tr>\n",
       "  </tbody>\n",
       "</table>\n",
       "</div>"
      ],
      "text/plain": [
       "     Sex  Length  Diameter  Height  Whole weight  Shucked weight  \\\n",
       "0      M   0.455     0.365   0.095        0.5140          0.2245   \n",
       "1      M   0.350     0.265   0.090        0.2255          0.0995   \n",
       "2      F   0.530     0.420   0.135        0.6770          0.2565   \n",
       "3      M   0.440     0.365   0.125        0.5160          0.2155   \n",
       "4      I   0.330     0.255   0.080        0.2050          0.0895   \n",
       "4172   F   0.565     0.450   0.165        0.8870          0.3700   \n",
       "4173   M   0.590     0.440   0.135        0.9660          0.4390   \n",
       "4174   M   0.600     0.475   0.205        1.1760          0.5255   \n",
       "4175   F   0.625     0.485   0.150        1.0945          0.5310   \n",
       "4176   M   0.710     0.555   0.195        1.9485          0.9455   \n",
       "\n",
       "      Viscera weight  Shell weight  Rings  \n",
       "0             0.1010        0.1500     15  \n",
       "1             0.0485        0.0700      7  \n",
       "2             0.1415        0.2100      9  \n",
       "3             0.1140        0.1550     10  \n",
       "4             0.0395        0.0550      7  \n",
       "4172          0.2390        0.2490     11  \n",
       "4173          0.2145        0.2605     10  \n",
       "4174          0.2875        0.3080      9  \n",
       "4175          0.2610        0.2960     10  \n",
       "4176          0.3765        0.4950     12  "
      ]
     },
     "execution_count": 31,
     "metadata": {},
     "output_type": "execute_result"
    }
   ],
   "source": [
    "df.head().append(df.tail())"
   ]
  },
  {
   "cell_type": "code",
   "execution_count": 32,
   "id": "0b185437",
   "metadata": {},
   "outputs": [
    {
     "data": {
      "text/plain": [
       "(4177, 9)"
      ]
     },
     "execution_count": 32,
     "metadata": {},
     "output_type": "execute_result"
    }
   ],
   "source": [
    "df.shape"
   ]
  },
  {
   "cell_type": "code",
   "execution_count": 33,
   "id": "0d707c17",
   "metadata": {},
   "outputs": [
    {
     "name": "stdout",
     "output_type": "stream",
     "text": [
      "<class 'pandas.core.frame.DataFrame'>\n",
      "RangeIndex: 4177 entries, 0 to 4176\n",
      "Data columns (total 9 columns):\n",
      " #   Column          Non-Null Count  Dtype  \n",
      "---  ------          --------------  -----  \n",
      " 0   Sex             4177 non-null   object \n",
      " 1   Length          4177 non-null   float64\n",
      " 2   Diameter        4177 non-null   float64\n",
      " 3   Height          4177 non-null   float64\n",
      " 4   Whole weight    4177 non-null   float64\n",
      " 5   Shucked weight  4177 non-null   float64\n",
      " 6   Viscera weight  4177 non-null   float64\n",
      " 7   Shell weight    4177 non-null   float64\n",
      " 8   Rings           4177 non-null   int64  \n",
      "dtypes: float64(7), int64(1), object(1)\n",
      "memory usage: 293.8+ KB\n"
     ]
    }
   ],
   "source": [
    "df.info()"
   ]
  },
  {
   "cell_type": "code",
   "execution_count": 34,
   "id": "2548e016",
   "metadata": {},
   "outputs": [
    {
     "data": {
      "text/plain": [
       "M    1528\n",
       "I    1342\n",
       "F    1307\n",
       "Name: Sex, dtype: int64"
      ]
     },
     "execution_count": 34,
     "metadata": {},
     "output_type": "execute_result"
    }
   ],
   "source": [
    "# look the distribution of abalone sex\n",
    "# sex's datatype is string\n",
    "\n",
    "df['Sex'].value_counts()"
   ]
  },
  {
   "cell_type": "code",
   "execution_count": 35,
   "id": "364736d1",
   "metadata": {
    "scrolled": true
   },
   "outputs": [
    {
     "data": {
      "text/plain": [
       "<AxesSubplot:xlabel='Sex', ylabel='count'>"
      ]
     },
     "execution_count": 35,
     "metadata": {},
     "output_type": "execute_result"
    },
    {
     "data": {
      "image/png": "[encoded data removed]",
      "text/plain": [
       "<Figure size 432x288 with 1 Axes>"
      ]
     },
     "metadata": {
      "needs_background": "light"
     },
     "output_type": "display_data"
    }
   ],
   "source": [
    "sns.countplot(x='Sex', data=df)"
   ]
  },
  {
   "cell_type": "code",
   "execution_count": 36,
   "id": "a7e41abd",
   "metadata": {},
   "outputs": [
    {
     "data": {
      "text/plain": [
       "<matplotlib.legend.Legend at 0x15b9dc280>"
      ]
     },
     "execution_count": 36,
     "metadata": {},
     "output_type": "execute_result"
    },
    {
     "data": {
      "image/png": "[encoded data removed]",
      "text/plain": [
       "<Figure size 432x288 with 1 Axes>"
      ]
     },
     "metadata": {},
     "output_type": "display_data"
    }
   ],
   "source": [
    "n = len(df['Sex'].unique())\n",
    "labels = [df['Sex'].unique()[i] for i in range(n)]\n",
    "fraces = [df['Sex'].value_counts()[i] for i in range(n)]\n",
    "explode = [0.1, 0, 0]\n",
    "\n",
    "plt.title(\"Distrubution of Abalone Sex\")\n",
    "wedges, texts, autotexts = plt.pie(x=fraces, labels=labels, autopct='%0f%%',\n",
    "        explode=explode,shadow=True)\n",
    "plt.legend(wedges, labels, fontsize=12, title=\"Sex\",\n",
    "          loc=\"center left\", bbox_to_anchor=(0.91, 0, 0.3, 1))"
   ]
  },
  {
   "cell_type": "code",
   "execution_count": 37,
   "id": "cb331dba",
   "metadata": {
    "scrolled": true
   },
   "outputs": [
    {
     "data": {
      "image/png": "[encoded data removed]",
      "text/plain": [
       "<Figure size 1152x720 with 8 Axes>"
      ]
     },
     "metadata": {
      "needs_background": "light"
     },
     "output_type": "display_data"
    }
   ],
   "source": [
    "# other attributes are continuous, so using the distplot\n",
    "i=1\n",
    "plt.figure(figsize=(16,10))\n",
    "for col in df.columns[1:]:\n",
    "    plt.subplot(4,2,i)\n",
    "    i=i+1\n",
    "    sns.distplot(df[col])\n",
    "plt.tight_layout()"
   ]
  },
  {
   "cell_type": "markdown",
   "id": "5c0aad7e",
   "metadata": {},
   "source": [
    "# Regression with Tensorflow"
   ]
  },
  {
   "cell_type": "code",
   "execution_count": 38,
   "id": "36a675d1",
   "metadata": {},
   "outputs": [],
   "source": [
    "import tensorflow.compat.v1 as tf\n",
    "tf.compat.v1.disable_eager_execution()\n",
    "\n",
    "from sklearn.utils import shuffle"
   ]
  },
  {
   "cell_type": "code",
   "execution_count": 39,
   "id": "7bff5c16",
   "metadata": {},
   "outputs": [],
   "source": [
    "# sex label is object type(value:'M','F','I'), which is not suitable for regression\n",
    "# so convert this into numerical type\n",
    "\n",
    "size_mapping = {\n",
    "    'F': 0.1,\n",
    "    'M': 0.5,\n",
    "    'I': 0.9\n",
    "}\n",
    "df['Sex'] = df['Sex'].map(size_mapping)"
   ]
  },
  {
   "cell_type": "code",
   "execution_count": 40,
   "id": "5d2c4a9f",
   "metadata": {},
   "outputs": [
    {
     "data": {
      "text/plain": [
       "Sex               float64\n",
       "Length            float64\n",
       "Diameter          float64\n",
       "Height            float64\n",
       "Whole weight      float64\n",
       "Shucked weight    float64\n",
       "Viscera weight    float64\n",
       "Shell weight      float64\n",
       "Rings               int64\n",
       "dtype: object"
      ]
     },
     "execution_count": 40,
     "metadata": {},
     "output_type": "execute_result"
    }
   ],
   "source": [
    "df.dtypes"
   ]
  },
  {
   "cell_type": "code",
   "execution_count": 41,
   "id": "0c72dc47",
   "metadata": {},
   "outputs": [],
   "source": [
    "# data normalization\n",
    "data = np.array(df.values)\n",
    "n = len(df.columns)\n",
    "for i in range(n-1):\n",
    "    data[:,i] = data[:,i]/(data[:,i].max() - data[:,i].min())"
   ]
  },
  {
   "cell_type": "code",
   "execution_count": 45,
   "id": "7309c230",
   "metadata": {},
   "outputs": [],
   "source": [
    "# x: input features, y: prediction data\n",
    "x_data = data[:,:n-1]\n",
    "y_data = data[:,-1]\n",
    "\n",
    "train_epochs = 50\n",
    "learning_rate = 0.01\n",
    "\n",
    "# x: placeholders of features data, y: placeholders of label data\n",
    "x = tf.placeholder(tf.float32, [None, n-1], name='x')\n",
    "y = tf.placeholder(tf.float32, [None, 1], name='y')"
   ]
  },
  {
   "cell_type": "code",
   "execution_count": 46,
   "id": "c825af23",
   "metadata": {},
   "outputs": [],
   "source": [
    "# define 8-variavles model: Y = w1*X1 + w2*X2 + w3*X3 + w4*X4 + w5*X5 + w6*X6 + w7*X7 + w8*X8 + bias\n",
    "with tf.name_scope(\"model\"):\n",
    "    w = tf.Variable(tf.random_normal([n-1, 1], stddev = 0.01), name = \"w\")\n",
    "    b = tf.Variable(1.0, name = \"b\")\n",
    "    def model(x, w, b):\n",
    "        return tf.matmul(x, w) + b\n",
    "    pred = model(x, w, b)\n",
    "\n",
    "# define loss function using the mean square error\n",
    "with tf.name_scope(\"LossFunction\"):\n",
    "    loss_function = tf.reduce_mean(tf.pow(y-pred, 2))"
   ]
  },
  {
   "cell_type": "code",
   "execution_count": 47,
   "id": "f9947d4f",
   "metadata": {},
   "outputs": [],
   "source": [
    "# optimizer using the algorithm of random gradient descent \n",
    "optimizer = tf.train.GradientDescentOptimizer(learning_rate).minimize(loss_function)\n",
    "\n",
    "sess= tf.compat.v1.Session()\n",
    "init = tf.global_variables_initializer()\n",
    "\n",
    "sum_loss_op = tf.summary.scalar(\"loss\", loss_function)\n",
    " \n",
    "merged = tf.summary.merge_all()\n",
    " \n",
    "sess.run(init)"
   ]
  },
  {
   "cell_type": "code",
   "execution_count": 48,
   "id": "ab6cadd2",
   "metadata": {},
   "outputs": [
    {
     "name": "stdout",
     "output_type": "stream",
     "text": [
      "epoch= 1 loss= 4.265856462939544 b= 3.2832737 w= [[ 0.07967953]\n",
      " [ 3.1323745 ]\n",
      " [ 3.1326654 ]\n",
      " [ 0.77663815]\n",
      " [ 1.6204977 ]\n",
      " [-0.03952751]\n",
      " [ 0.41734457]\n",
      " [ 2.9667907 ]]\n",
      "epoch= 2 loss= 3.7887537773908395 b= 2.9675274 w= [[ 0.1159331 ]\n",
      " [ 3.4000642 ]\n",
      " [ 3.3950198 ]\n",
      " [ 1.0388315 ]\n",
      " [ 1.6900821 ]\n",
      " [-1.090624  ]\n",
      " [-0.29923445]\n",
      " [ 4.292864  ]]\n",
      "epoch= 3 loss= 3.712543486849836 b= 2.7698212 w= [[ 0.11967879]\n",
      " [ 3.6020036 ]\n",
      " [ 3.5729005 ]\n",
      " [ 1.2777222 ]\n",
      " [ 1.767573  ]\n",
      " [-2.0037742 ]\n",
      " [-0.9181846 ]\n",
      " [ 5.410724  ]]\n",
      "epoch= 4 loss= 3.6586404542288142 b= 2.6293898 w= [[ 0.1193572]\n",
      " [ 3.7555645]\n",
      " [ 3.6889524]\n",
      " [ 1.4974462]\n",
      " [ 1.8678844]\n",
      " [-2.787075 ]\n",
      " [-1.4420033]\n",
      " [ 6.365694 ]]\n",
      "epoch= 5 loss= 3.6198369809054913 b= 2.528878 w= [[ 0.1179923]\n",
      " [ 3.8733683]\n",
      " [ 3.7586846]\n",
      " [ 1.7007319]\n",
      " [ 1.9860705]\n",
      " [-3.460901 ]\n",
      " [-1.8859737]\n",
      " [ 7.1815214]]\n",
      "epoch= 6 loss= 3.591670649037507 b= 2.4577956 w= [[ 0.11612771]\n",
      " [ 3.964893  ]\n",
      " [ 3.793788  ]\n",
      " [ 1.8897638 ]\n",
      " [ 2.1168842 ]\n",
      " [-4.0432105 ]\n",
      " [-2.2637987 ]\n",
      " [ 7.877304  ]]\n",
      "epoch= 7 loss= 3.5710746566970197 b= 2.4084415 w= [[ 0.11399729]\n",
      " [ 4.0372386 ]\n",
      " [ 3.803205  ]\n",
      " [ 2.0663612 ]\n",
      " [ 2.2562644 ]\n",
      " [-4.548879  ]\n",
      " [-2.5867753 ]\n",
      " [ 8.4693985 ]]\n",
      "epoch= 8 loss= 3.5558998895291256 b= 2.3750281 w= [[ 0.11175451]\n",
      " [ 4.0957294 ]\n",
      " [ 3.7937036 ]\n",
      " [ 2.232024  ]\n",
      " [ 2.4011629 ]\n",
      " [-4.9901605 ]\n",
      " [-2.8641808 ]\n",
      " [ 8.971986  ]]\n",
      "epoch= 9 loss= 3.5446259700890574 b= 2.3531895 w= [[ 0.1095055]\n",
      " [ 4.144306 ]\n",
      " [ 3.7704628]\n",
      " [ 2.3880093]\n",
      " [ 2.5493207]\n",
      " [-5.377179 ]\n",
      " [-3.1036038]\n",
      " [ 9.397308 ]]\n",
      "epoch= 10 loss= 3.5361703294140745 b= 2.3396642 w= [[ 0.10731688]\n",
      " [ 4.1858797 ]\n",
      " [ 3.737402  ]\n",
      " [ 2.5353787 ]\n",
      " [ 2.6990755 ]\n",
      " [-5.718326  ]\n",
      " [-3.3113244 ]\n",
      " [ 9.755947  ]]\n",
      "epoch= 11 loss= 3.529758250438273 b= 2.3320115 w= [[ 0.10523652]\n",
      " [ 4.2225776 ]\n",
      " [ 3.697474  ]\n",
      " [ 2.6750236 ]\n",
      " [ 2.849225  ]\n",
      " [-6.020592  ]\n",
      " [-3.4924982 ]\n",
      " [10.057101  ]]\n",
      "epoch= 12 loss= 3.524831753955449 b= 2.3284156 w= [[ 0.10328705]\n",
      " [ 4.2559714 ]\n",
      " [ 3.6529102 ]\n",
      " [ 2.807718  ]\n",
      " [ 2.9989035 ]\n",
      " [-6.289774  ]\n",
      " [-3.651409  ]\n",
      " [10.308636  ]]\n",
      "epoch= 13 loss= 3.520988318030031 b= 2.3275476 w= [[ 0.10148364]\n",
      " [ 4.2871594 ]\n",
      " [ 3.6053853 ]\n",
      " [ 2.934098  ]\n",
      " [ 3.1474714 ]\n",
      " [-6.5307627 ]\n",
      " [-3.7915838 ]\n",
      " [10.517443  ]]\n",
      "epoch= 14 loss= 3.517936707256779 b= 2.3284285 w= [[ 0.09983529]\n",
      " [ 4.3169303 ]\n",
      " [ 3.5561252 ]\n",
      " [ 3.0547256 ]\n",
      " [ 3.2945127 ]\n",
      " [-6.747595  ]\n",
      " [-3.91598   ]\n",
      " [10.689425  ]]\n",
      "epoch= 15 loss= 3.5154647576419755 b= 2.3303661 w= [[ 0.09833418]\n",
      " [ 4.345812  ]\n",
      " [ 3.5060663 ]\n",
      " [ 3.1700745 ]\n",
      " [ 3.439749  ]\n",
      " [-6.9437437 ]\n",
      " [-4.027044  ]\n",
      " [10.829694  ]]\n",
      "epoch= 16 loss= 3.513418946265185 b= 2.3328574 w= [[ 0.09697759]\n",
      " [ 4.374177  ]\n",
      " [ 3.4558656 ]\n",
      " [ 3.2805736 ]\n",
      " [ 3.5829933 ]\n",
      " [-7.1221075 ]\n",
      " [-4.12682   ]\n",
      " [10.942693  ]]\n",
      "epoch= 17 loss= 3.5116869272253033 b= 2.3355448 w= [[ 0.09575653]\n",
      " [ 4.4022737 ]\n",
      " [ 3.4060118 ]\n",
      " [ 3.3865817 ]\n",
      " [ 3.7241342 ]\n",
      " [-7.2851086 ]\n",
      " [-4.2170124 ]\n",
      " [11.032194  ]]\n",
      "epoch= 18 loss= 3.5101877843195424 b= 2.3382106 w= [[ 0.09466462]\n",
      " [ 4.430196  ]\n",
      " [ 3.3568418 ]\n",
      " [ 3.4884205 ]\n",
      " [ 3.8631024 ]\n",
      " [-7.4348226 ]\n",
      " [-4.2990503 ]\n",
      " [11.101586  ]]\n",
      "epoch= 19 loss= 3.5088615539802146 b= 2.3406909 w= [[ 0.09368683]\n",
      " [ 4.458041  ]\n",
      " [ 3.3086166 ]\n",
      " [ 3.5863512 ]\n",
      " [ 3.999906  ]\n",
      " [-7.5730095 ]\n",
      " [-4.3741574 ]\n",
      " [11.153639  ]]\n",
      "epoch= 20 loss= 3.5076655054474406 b= 2.3428984 w= [[ 0.0928128]\n",
      " [ 4.4858446]\n",
      " [ 3.261461 ]\n",
      " [ 3.6806357]\n",
      " [ 4.1345387]\n",
      " [-7.701198 ]\n",
      " [-4.443317 ]\n",
      " [11.19087  ]]\n",
      "epoch= 21 loss= 3.506568369665781 b= 2.3447595 w= [[ 0.09203357]\n",
      " [ 4.513617  ]\n",
      " [ 3.2155035 ]\n",
      " [ 3.7714987 ]\n",
      " [ 4.267025  ]\n",
      " [-7.8206363 ]\n",
      " [-4.507399  ]\n",
      " [11.215368  ]]\n",
      "epoch= 22 loss= 3.505547315141526 b= 2.346265 w= [[ 0.09134296]\n",
      " [ 4.541302  ]\n",
      " [ 3.1707983 ]\n",
      " [ 3.8591323 ]\n",
      " [ 4.397427  ]\n",
      " [-7.932444  ]\n",
      " [-4.5671115 ]\n",
      " [11.229011  ]]\n",
      "epoch= 23 loss= 3.5045853968866854 b= 2.3474045 w= [[ 0.09072667]\n",
      " [ 4.568905  ]\n",
      " [ 3.1273677 ]\n",
      " [ 3.9437177 ]\n",
      " [ 4.525781  ]\n",
      " [-8.037567  ]\n",
      " [-4.6230564 ]\n",
      " [11.233351  ]]\n",
      "epoch= 24 loss= 3.5036712088065727 b= 2.348202 w= [[ 0.0901798]\n",
      " [ 4.596353 ]\n",
      " [ 3.0852187]\n",
      " [ 4.0253925]\n",
      " [ 4.652114 ]\n",
      " [-8.136787 ]\n",
      " [-4.6757298]\n",
      " [11.229769 ]]\n",
      "epoch= 25 loss= 3.5027961125117826 b= 2.3486767 w= [[ 0.08969048]\n",
      " [ 4.6236057 ]\n",
      " [ 3.0443428 ]\n",
      " [ 4.104325  ]\n",
      " [ 4.7765117 ]\n",
      " [-8.2308035 ]\n",
      " [-4.7255917 ]\n",
      " [11.219456  ]]\n",
      "epoch= 26 loss= 3.501954066371031 b= 2.3488474 w= [[ 0.08925415]\n",
      " [ 4.650622  ]\n",
      " [ 3.0047238 ]\n",
      " [ 4.180645  ]\n",
      " [ 4.899008  ]\n",
      " [-8.320214  ]\n",
      " [-4.7729797 ]\n",
      " [11.203413  ]]\n",
      "epoch= 27 loss= 3.501140000155686 b= 2.3487473 w= [[ 0.0888695]\n",
      " [ 4.67736  ]\n",
      " [ 2.9663153]\n",
      " [ 4.2544723]\n",
      " [ 5.019662 ]\n",
      " [-8.405518 ]\n",
      " [-4.818219 ]\n",
      " [11.182528 ]]\n",
      "epoch= 28 loss= 3.500351226518557 b= 2.348399 w= [[ 0.08852151]\n",
      " [ 4.703803  ]\n",
      " [ 2.9290955 ]\n",
      " [ 4.3259163 ]\n",
      " [ 5.1385045 ]\n",
      " [-8.487187  ]\n",
      " [-4.8615575 ]\n",
      " [11.1575575 ]]\n",
      "epoch= 29 loss= 3.499585630293341 b= 2.3478384 w= [[ 0.08821102]\n",
      " [ 4.729899  ]\n",
      " [ 2.8930302 ]\n",
      " [ 4.395071  ]\n",
      " [ 5.255594  ]\n",
      " [-8.565576  ]\n",
      " [-4.9032464 ]\n",
      " [11.129147  ]]\n",
      "epoch= 30 loss= 3.498840899971381 b= 2.3470912 w= [[ 0.08793186]\n",
      " [ 4.7556067 ]\n",
      " [ 2.8580828 ]\n",
      " [ 4.462053  ]\n",
      " [ 5.37098   ]\n",
      " [-8.641047  ]\n",
      " [-4.9434457 ]\n",
      " [11.097871  ]]\n",
      "epoch= 31 loss= 3.4981164036607924 b= 2.3461843 w= [[ 0.08768621]\n",
      " [ 4.780901  ]\n",
      " [ 2.8241963 ]\n",
      " [ 4.5269213 ]\n",
      " [ 5.4846916 ]\n",
      " [-8.713852  ]\n",
      " [-4.9823265 ]\n",
      " [11.064262  ]]\n",
      "epoch= 32 loss= 3.497410587760821 b= 2.3451464 w= [[ 0.08745708]\n",
      " [ 4.8057814 ]\n",
      " [ 2.791356  ]\n",
      " [ 4.5897617 ]\n",
      " [ 5.596762  ]\n",
      " [-8.784241  ]\n",
      " [-5.0200415 ]\n",
      " [11.028642  ]]\n",
      "epoch= 33 loss= 3.496723340900273 b= 2.3439898 w= [[ 0.08725582]\n",
      " [ 4.830215  ]\n",
      " [ 2.7595067 ]\n",
      " [ 4.650675  ]\n",
      " [ 5.707258  ]\n",
      " [-8.852492  ]\n",
      " [-5.0566854 ]\n",
      " [10.991448  ]]\n",
      "epoch= 34 loss= 3.496053154950545 b= 2.3427384 w= [[ 0.0870677]\n",
      " [ 4.854193 ]\n",
      " [ 2.7286413]\n",
      " [ 4.7097263]\n",
      " [ 5.816197 ]\n",
      " [-8.918783 ]\n",
      " [-5.0923634]\n",
      " [10.95293  ]]\n",
      "epoch= 35 loss= 3.4954010114445815 b= 2.3414028 w= [[ 0.08690427]\n",
      " [ 4.877695  ]\n",
      " [ 2.698688  ]\n",
      " [ 4.766977  ]\n",
      " [ 5.9236026 ]\n",
      " [-8.98322   ]\n",
      " [-5.1271577 ]\n",
      " [10.913425  ]]\n",
      "epoch= 36 loss= 3.494765112239948 b= 2.34002 w= [[ 0.08675186]\n",
      " [ 4.90071   ]\n",
      " [ 2.6696258 ]\n",
      " [ 4.822502  ]\n",
      " [ 6.029512  ]\n",
      " [-9.04597   ]\n",
      " [-5.1611605 ]\n",
      " [10.873103  ]]\n",
      "epoch= 37 loss= 3.4941459742294385 b= 2.3385785 w= [[ 0.08661438]\n",
      " [ 4.923249  ]\n",
      " [ 2.6414387 ]\n",
      " [ 4.8763285 ]\n",
      " [ 6.133956  ]\n",
      " [-9.107183  ]\n",
      " [-5.194406  ]\n",
      " [10.832175  ]]\n",
      "epoch= 38 loss= 3.4935425513449085 b= 2.3371131 w= [[ 0.08648658]\n",
      " [ 4.9452786 ]\n",
      " [ 2.6140885 ]\n",
      " [ 4.92855   ]\n",
      " [ 6.236967  ]\n",
      " [-9.16699   ]\n",
      " [-5.226956  ]\n",
      " [10.790832  ]]\n",
      "epoch= 39 loss= 3.4929549243242444 b= 2.335622 w= [[ 0.08636716]\n",
      " [ 4.966824  ]\n",
      " [ 2.5875485 ]\n",
      " [ 4.97921   ]\n",
      " [ 6.3385596 ]\n",
      " [-9.225433  ]\n",
      " [-5.25888   ]\n",
      " [10.749164  ]]\n",
      "epoch= 40 loss= 3.492382608096783 b= 2.3341138 w= [[ 0.08625797]\n",
      " [ 4.9878793 ]\n",
      " [ 2.5617878 ]\n",
      " [ 5.028364  ]\n",
      " [ 6.4387717 ]\n",
      " [-9.2826395 ]\n",
      " [-5.290206  ]\n",
      " [10.707336  ]]\n",
      "epoch= 41 loss= 3.4918252302036783 b= 2.332597 w= [[ 0.08615644]\n",
      " [ 5.0084453 ]\n",
      " [ 2.536781  ]\n",
      " [ 5.0760546 ]\n",
      " [ 6.5376015 ]\n",
      " [-9.338651  ]\n",
      " [-5.320944  ]\n",
      " [10.665428  ]]\n",
      "epoch= 42 loss= 3.4912828519095584 b= 2.3310804 w= [[ 0.08606637]\n",
      " [ 5.0285163 ]\n",
      " [ 2.51249   ]\n",
      " [ 5.1223373 ]\n",
      " [ 6.6351004 ]\n",
      " [-9.393532  ]\n",
      " [-5.351155  ]\n",
      " [10.623561  ]]\n",
      "epoch= 43 loss= 3.4907544539373165 b= 2.3295722 w= [[ 0.0859779]\n",
      " [ 5.0481067]\n",
      " [ 2.4889164]\n",
      " [ 5.1672573]\n",
      " [ 6.731278 ]\n",
      " [-9.447431 ]\n",
      " [-5.3808355]\n",
      " [10.58181  ]]\n",
      "epoch= 44 loss= 3.4902401883787437 b= 2.3280656 w= [[ 0.08589694]\n",
      " [ 5.0672307 ]\n",
      " [ 2.466022  ]\n",
      " [ 5.210828  ]\n",
      " [ 6.826171  ]\n",
      " [-9.500313  ]\n",
      " [-5.410029  ]\n",
      " [10.540202  ]]\n",
      "epoch= 45 loss= 3.4897393596955024 b= 2.3265831 w= [[ 0.08582216]\n",
      " [ 5.0858707 ]\n",
      " [ 2.4437804 ]\n",
      " [ 5.253147  ]\n",
      " [ 6.919757  ]\n",
      " [-9.552251  ]\n",
      " [-5.4387593 ]\n",
      " [10.498866  ]]\n",
      "epoch= 46 loss= 3.489252131651592 b= 2.3251238 w= [[ 0.08575068]\n",
      " [ 5.1040444 ]\n",
      " [ 2.4221735 ]\n",
      " [ 5.2942157 ]\n",
      " [ 7.012078  ]\n",
      " [-9.603288  ]\n",
      " [-5.467016  ]\n",
      " [10.457787  ]]\n",
      "epoch= 47 loss= 3.4887777529051625 b= 2.3236837 w= [[ 0.08568288]\n",
      " [ 5.1217513 ]\n",
      " [ 2.4011967 ]\n",
      " [ 5.33409   ]\n",
      " [ 7.1031537 ]\n",
      " [-9.653467  ]\n",
      " [-5.4948463 ]\n",
      " [10.417045  ]]\n",
      "epoch= 48 loss= 3.488315933309705 b= 2.3222637 w= [[ 0.08562029]\n",
      " [ 5.1390142 ]\n",
      " [ 2.3808196 ]\n",
      " [ 5.372795  ]\n",
      " [ 7.1930165 ]\n",
      " [-9.702808  ]\n",
      " [-5.522238  ]\n",
      " [10.376597  ]]\n",
      "epoch= 49 loss= 3.487866426026873 b= 2.320864 w= [[ 0.08555986]\n",
      " [ 5.15584   ]\n",
      " [ 2.3610408 ]\n",
      " [ 5.4103737 ]\n",
      " [ 7.2816806 ]\n",
      " [-9.751374  ]\n",
      " [-5.549219  ]\n",
      " [10.336507  ]]\n"
     ]
    },
    {
     "name": "stdout",
     "output_type": "stream",
     "text": [
      "epoch= 50 loss= 3.48742906064279 b= 2.3194976 w= [[ 0.08550634]\n",
      " [ 5.1722226 ]\n",
      " [ 2.3418121 ]\n",
      " [ 5.446829  ]\n",
      " [ 7.369135  ]\n",
      " [-9.799145  ]\n",
      " [-5.575802  ]\n",
      " [10.296855  ]]\n"
     ]
    }
   ],
   "source": [
    "loss_list = []\n",
    "loss_list2 = []\n",
    "for epoch in range(train_epochs):\n",
    "    loss_sum = 0.0\n",
    "    for xs,ys in zip(x_data, y_data):\n",
    "        xs = xs.reshape(1, n-1)\n",
    "        ys = ys.reshape(1, 1)\n",
    "        \n",
    "        _, summary_str, loss = sess.run([optimizer, sum_loss_op, loss_function], feed_dict = {x:xs, y:ys})\n",
    "        \n",
    "        loss_sum = loss_sum + loss\n",
    "        \n",
    "        loss_list2.append(loss)\n",
    "        \n",
    "    xvalues, yvalues = shuffle(x_data, y_data)\n",
    "    \n",
    "    b0temp = b.eval(session=sess)\n",
    "    w0temp = w.eval(session=sess)\n",
    "    loss_average = loss_sum/len(y_data)\n",
    "    \n",
    "    loss_list.append(loss_average)\n",
    "    \n",
    "    print(\"epoch=\", epoch+1, \"loss=\", loss_average, \"b=\", b0temp, \"w=\", w0temp)"
   ]
  },
  {
   "cell_type": "code",
   "execution_count": 49,
   "id": "f3aadaa5",
   "metadata": {},
   "outputs": [
    {
     "data": {
      "text/plain": [
       "[<matplotlib.lines.Line2D at 0x15abbf850>]"
      ]
     },
     "execution_count": 49,
     "metadata": {},
     "output_type": "execute_result"
    },
    {
     "data": {
      "image/png": "[encoded data removed]",
      "text/plain": [
       "<Figure size 432x288 with 1 Axes>"
      ]
     },
     "metadata": {
      "needs_background": "light"
     },
     "output_type": "display_data"
    }
   ],
   "source": [
    "# the change of loss function\n",
    "\n",
    "plt.plot(loss_list)"
   ]
  },
  {
   "cell_type": "code",
   "execution_count": 50,
   "id": "63f6abd4",
   "metadata": {},
   "outputs": [
    {
     "data": {
      "text/plain": [
       "[<matplotlib.lines.Line2D at 0x15ad0b130>]"
      ]
     },
     "execution_count": 50,
     "metadata": {},
     "output_type": "execute_result"
    },
    {
     "data": {
      "image/png": "[encoded data removed]",
      "text/plain": [
       "<Figure size 432x288 with 1 Axes>"
      ]
     },
     "metadata": {
      "needs_background": "light"
     },
     "output_type": "display_data"
    }
   ],
   "source": [
    "plt.plot(loss_list2)"
   ]
  },
  {
   "cell_type": "code",
   "execution_count": null,
   "id": "97103624",
   "metadata": {},
   "outputs": [],
   "source": []
  }
 ],
 "metadata": {
  "kernelspec": {
   "display_name": "Python 3 (ipykernel)",
   "language": "python",
   "name": "python3"
  },
  "language_info": {
   "codemirror_mode": {
    "name": "ipython",
    "version": 3
   },
   "file_extension": ".py",
   "mimetype": "text/x-python",
   "name": "python",
   "nbconvert_exporter": "python",
   "pygments_lexer": "ipython3",
   "version": "3.9.7"
  }
 },
 "nbformat": 4,
 "nbformat_minor": 5
}
